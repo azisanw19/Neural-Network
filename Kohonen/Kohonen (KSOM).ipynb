{
 "cells": [
  {
   "cell_type": "markdown",
   "metadata": {},
   "source": [
    "## Kohonen"
   ]
  },
  {
   "cell_type": "code",
   "execution_count": 1,
   "metadata": {},
   "outputs": [],
   "source": [
    "def winner(weights, training):\n",
    "    distance = [0 for i in range(len(weights))]\n",
    "    for i in range(len(weights)):\n",
    "        for j in range(len(training)):\n",
    "            distance[i] += (training[j] - weights[i][j])**2\n",
    "    return distance.index(min(distance))"
   ]
  },
  {
   "cell_type": "code",
   "execution_count": 2,
   "metadata": {},
   "outputs": [],
   "source": [
    "def update_weights(weights, training, j, alpha):\n",
    "    for i in range(len(weights[j])):\n",
    "        weights[j][i] = weights[j][i] + alpha * (training[i] - weights[j][i])\n",
    "    \n",
    "    return weights"
   ]
  },
  {
   "cell_type": "code",
   "execution_count": 3,
   "metadata": {},
   "outputs": [],
   "source": [
    "import random\n",
    "\n",
    "def matrix_weights_random(n, C):\n",
    "    weights = []\n",
    "    for i in range(C):\n",
    "        row = []\n",
    "        for j in range(n):\n",
    "            rand = random.random()\n",
    "            row.append(rand)\n",
    "        weights.append(row)\n",
    "    return weights"
   ]
  },
  {
   "cell_type": "code",
   "execution_count": 17,
   "metadata": {},
   "outputs": [
    {
     "name": "stdout",
     "output_type": "stream",
     "text": [
      "Sample test to cluster: \n",
      "0\n",
      "0\n",
      "1\n",
      "1\n",
      "Test sample to cluster:  0\n",
      "Trained weights:  [[0.00832704630559306, 0.024981138916779177, 0.5823016022777234, 0.9958364768472036], [0.9916729536944068, 0.4135348745694803, 0.02914466206957569, 0.012490569458389588]]\n"
     ]
    }
   ],
   "source": [
    "def main():\n",
    "    T =  [ [ 1, 1, 0, 0 ], [ 0, 0, 0, 1 ], [ 1, 0, 0, 0 ], [ 0, 0, 1, 1 ] ]\n",
    "    m, n = len(T), len(T[0])\n",
    "\n",
    "    weights = [ [ 0.2, 0.6, 0.5, 0.9 ], [ 0.8, 0.4, 0.7, 0.3 ] ]\n",
    "    \n",
    "    epochs = 100\n",
    "    alpha = 0.6\n",
    "\n",
    "    for i in range(epochs):\n",
    "        for j in range(m):\n",
    "            \n",
    "            training = T[j]\n",
    "            \n",
    "            J = winner(weights, training)\n",
    "            \n",
    "            weights = update_weights(weights, training, J, alpha)\n",
    "        alpha *= 0.5\n",
    "        \n",
    "    sample = []\n",
    "    print('Sample test to cluster: ')\n",
    "    for i in range(n):\n",
    "        sample.append(float(input()))\n",
    "        \n",
    "    J = winner(weights, sample)\n",
    "        \n",
    "    print('Test sample to cluster: ', J)\n",
    "    print('Trained weights: ', weights)\n",
    "    \n",
    "if __name__ == \"__main__\":\n",
    "    main()"
   ]
  }
 ],
 "metadata": {
  "kernelspec": {
   "display_name": "Python 3",
   "language": "python",
   "name": "python3"
  },
  "language_info": {
   "codemirror_mode": {
    "name": "ipython",
    "version": 3
   },
   "file_extension": ".py",
   "mimetype": "text/x-python",
   "name": "python",
   "nbconvert_exporter": "python",
   "pygments_lexer": "ipython3",
   "version": "3.8.5"
  }
 },
 "nbformat": 4,
 "nbformat_minor": 4
}
