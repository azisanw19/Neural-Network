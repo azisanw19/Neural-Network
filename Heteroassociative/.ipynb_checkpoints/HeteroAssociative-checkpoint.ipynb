{
 "cells": [
  {
   "cell_type": "markdown",
   "metadata": {},
   "source": [
    "# Heteroassociative Memory Neural Network"
   ]
  },
  {
   "cell_type": "code",
   "execution_count": 1,
   "metadata": {},
   "outputs": [],
   "source": [
    "import numpy as np\n",
    "\n",
    "def initialize_weight(s, t):\n",
    "    weight = np.zeros((len(s[0]), len(t[0])))\n",
    "    for input, target in zip(s,t):\n",
    "        weight += np.matmul(np.transpose([input]), [target])\n",
    "    return weight"
   ]
  },
  {
   "cell_type": "code",
   "execution_count": 2,
   "metadata": {},
   "outputs": [],
   "source": [
    "def training_input(s, w):\n",
    "    y_mul = np.matmul([s], w)[0]\n",
    "    out = []\n",
    "    for y in y_mul:\n",
    "        if y < 0:\n",
    "            out.append(-1.0)\n",
    "        elif y == 0:\n",
    "            out.append(0.0)\n",
    "        else:\n",
    "            out.append(1.0)\n",
    "    return out"
   ]
  },
  {
   "cell_type": "code",
   "execution_count": 3,
   "metadata": {},
   "outputs": [
    {
     "name": "stdout",
     "output_type": "stream",
     "text": [
      "[1 0 0 0]  ->  [1.0, 0.0]\n",
      "[1 1 0 0]  ->  [1.0, 0.0]\n",
      "[0 0 0 1]  ->  [0.0, 1.0]\n",
      "[0 0 1 1]  ->  [0.0, 1.0]\n"
     ]
    }
   ],
   "source": [
    "def example1(): # contoh 3.1 - 3.3\n",
    "    s = np.array([[1,0,0,0],[1,1,0,0],[0,0,0,1],[0,0,1,1]]) # input\n",
    "    t = np.array([[1,0],[1,0],[0,1],[0,1]]) # target\n",
    "    w = initialize_weight(s, t)\n",
    "    for input in s:\n",
    "        y = training_input(input, w) # testing data\n",
    "        print(input, ' -> ', y)\n",
    "        \n",
    "example1()"
   ]
  },
  {
   "cell_type": "markdown",
   "metadata": {},
   "source": [
    "## Contoh 3.1 - 3.3\n",
    "\n",
    "Pada contoh 3.1 - 3.3 sebuah jaringan saraf tiruan menyimpan pola dari vektor input s=(s1,s2,s3,s4) dan vektor output t=(t1,t2). Hasil testing\n",
    "\n",
    "    [1 0 0 0]  ->  [1.0, 0.0]\n",
    "    [1 1 0 0]  ->  [1.0, 0.0]\n",
    "    [0 0 0 1]  ->  [0.0, 1.0]\n",
    "    [0 0 1 1]  ->  [0.0, 1.0]\n",
    "\n",
    "Pada ini training data menggunakan input (s) menghasilkan output(y) yang sesuai dengan target yang didapat. Artinya dalam training data menggunakan input, dapat dikenali oleh pattern."
   ]
  },
  {
   "cell_type": "code",
   "execution_count": 4,
   "metadata": {},
   "outputs": [
    {
     "name": "stdout",
     "output_type": "stream",
     "text": [
      "[0, 1, 0, 0]  ->  [1.0, 0.0]\n"
     ]
    }
   ],
   "source": [
    "def example2(): # contoh 3.4\n",
    "    s = np.array([[1,0,0,0],[1,1,0,0],[0,0,0,1],[0,0,1,1]]) # input\n",
    "    t = np.array([[1,0],[1,0],[0,1],[0,1]]) # target\n",
    "    w = initialize_weight(s, t)\n",
    "    training = [0,1,0,0] # testing data\n",
    "    y = training_input(training, w)\n",
    "    print(training, ' -> ', y)\n",
    "\n",
    "example2()"
   ]
  },
  {
   "cell_type": "markdown",
   "metadata": {},
   "source": [
    "## Contoh 3.4 (Testing a heteroassociative net with input similiar to the training input)\n",
    "\n",
    "Pola input x=(0,1,0,0) berbeda dengan vektor pelatihan s=(1,1,0,0) pada komponen yang pertama. Hasil testing dari pola input ini\n",
    "\n",
    "        [0, 1, 0, 0]  ->  [1.0, 0.0]\n",
    "        \n",
    "Hasil ini menunjukkan bahwa jaringan masih dapat mengelompokkan data testing ini ke dalam salah satu pola dalam pelatihan."
   ]
  },
  {
   "cell_type": "code",
   "execution_count": 5,
   "metadata": {},
   "outputs": [
    {
     "name": "stdout",
     "output_type": "stream",
     "text": [
      "[0, 1, 1, 0]  ->  [1.0, 1.0]\n"
     ]
    }
   ],
   "source": [
    "def example2(): # contoh 3.5\n",
    "    s = np.array([[1,0,0,0],[1,1,0,0],[0,0,0,1],[0,0,1,1]]) # input\n",
    "    t = np.array([[1,0],[1,0],[0,1],[0,1]]) # target\n",
    "    w = initialize_weight(s, t)\n",
    "    training = [0,1,1,0] # testing data\n",
    "    y = training_input(training, w)\n",
    "    print(training, ' -> ', y)\n",
    "\n",
    "example2()"
   ]
  },
  {
   "cell_type": "markdown",
   "metadata": {},
   "source": [
    "## Contoh 3.5 (Testing a heteroassociative net with input that is not similiar to the training input)\n",
    "\n",
    "Pola input x=(0,1,1,0) berbeda dengan vektor pelatihan s=(1,1,0,0) pada dua komponen yaitu komponen pertama dan ketiga; serta berbeda dengan vektor pelatian s=(0,0,1,1) pada dua komponen yaitu kedua dan keempat. Hasil testing pada pola input ini:\n",
    "\n",
    "    [0, 1, 1, 0]  ->  [1.0, 1.0]\n",
    "\n",
    "Hasil testing ini menunjukkan bahwa jaringan tidak dapat mengelompokkan data testing ini ke dalam salah satu target pola pelatihan. Jadi jika ada 2 buah komponen yang berbeda pada vektor input maka jaringan tidak akan mampu mengelompokkan data input tersebut ke dalam salah satu target pelatihan"
   ]
  },
  {
   "cell_type": "code",
   "execution_count": 6,
   "metadata": {},
   "outputs": [
    {
     "name": "stdout",
     "output_type": "stream",
     "text": [
      "[-1, 1, 1, -1]  ->  [0.0, 0.0]\n",
      "[0, 1, 0, -1]  ->  [1.0, -1.0]\n"
     ]
    }
   ],
   "source": [
    "def example3(): # contoh 3.8\n",
    "    s = np.array([[1,-1,-1,-1],[1,1,-1,-1],[-1,-1,-1,1],[-1,-1,1,1]]) # input\n",
    "    t = np.array([[1,-1],[1,-1],[-1,1],[-1,1]]) # target\n",
    "    w = initialize_weight(s, t)\n",
    "    training = [-1,1,1,-1] # testing data\n",
    "    y = training_input(training, w)\n",
    "    print(training, ' -> ', y)\n",
    "    training = [0,1,0,-1] # testing data\n",
    "    y = training_input(training, w)\n",
    "    print(training, ' -> ', y)\n",
    "\n",
    "example3()"
   ]
  },
  {
   "cell_type": "markdown",
   "metadata": {},
   "source": [
    "## Contoh 3.8 (Bipolar representation)\n",
    "\n",
    "Salah satu kelebihan memakai pola bipolar adalah dalam menyatakan bentuk gangguan (noise) dalam data input. Jika kita anggap ada dua bentuk noise yaitu: data salah (mistake) dan data hilang (missing). Dapat dinyatakan dengan:\n",
    "\n",
    "    1 -> Data benar\n",
    "    0 -> Data hilang (missing)\n",
    "    -1 -> Data salah (mistake)\n",
    "    \n",
    "Misalnya jika x=(-1,1,1,-1) dengan input data salah -1. Maka hasil testing yaitu:\n",
    "\n",
    "    [-1, 1, 1, -1]  ->  [0.0, 0.0]\n",
    "   \n",
    "Hal ini menunjukkan respon yang salah dari jaringan terhadap pola input.\n",
    "\n",
    "Misal jika x=(0,1,0,-1) dengan 1 data benar, 0 data hilang, dan -1 data salah. Maka hasil testingnya:\n",
    "\n",
    "    [0, 1, 0, -1]  ->  [1.0, -1.0]\n",
    "    \n",
    "Hal ini menunjukkan respon yang benar dari jaringan terhadap pola input tersebut."
   ]
  },
  {
   "cell_type": "code",
   "execution_count": 7,
   "metadata": {},
   "outputs": [
    {
     "name": "stdout",
     "output_type": "stream",
     "text": [
      "testing\n",
      "@..#..@\n",
      "...#.@.\n",
      "@.#.#.@\n",
      "..#.#.@\n",
      "@.###.@\n",
      ".#@..#.\n",
      ".#.@.#@\n",
      "#.@@..#\n",
      "#..@.@#\n",
      "\n",
      "\n",
      "output\n",
      ".#.\n",
      "#.#\n",
      "###\n",
      "#.#\n",
      "#.#\n",
      "\n"
     ]
    }
   ],
   "source": [
    "def pattern_representation(pattern):\n",
    "    representation = []\n",
    "    for char in pattern:\n",
    "        if char == '\\n':\n",
    "            continue\n",
    "        elif char == '#':\n",
    "            representation.append(1)\n",
    "        elif char == '.':\n",
    "            representation.append(-1)\n",
    "        else:\n",
    "            representation.append(0)\n",
    "    return representation\n",
    "\n",
    "def output_representation(pattern):\n",
    "    character = ''\n",
    "    n_space = 0\n",
    "    for i in pattern:\n",
    "        if i == 1:\n",
    "            character += '#'\n",
    "        elif i == -1:\n",
    "            character += '.'\n",
    "        elif i == 0:\n",
    "            character += '$' # noise\n",
    "        if (len(character) - n_space) % 3 == 0:\n",
    "            character += '\\n' # enter\n",
    "            n_space += 1\n",
    "    return character\n",
    "\n",
    "def pattern_recognition():\n",
    "    pola = [\"\"\"...#...\n",
    "...#...\n",
    "..#.#..\n",
    "..#.#..\n",
    "..###..\n",
    ".#...#.\n",
    ".#...#.\n",
    "#.....#\n",
    "#.....#\"\"\",\n",
    "           \"\"\"#####..\n",
    "#....#.\n",
    "#.....#\n",
    "#....#.\n",
    "####...\n",
    "#....#.\n",
    "#.....#\n",
    "#....#.\n",
    "#####..\"\"\",\n",
    "           \"\"\"..###..\n",
    ".#...#.\n",
    "#.....#\n",
    "#......\n",
    "#......\n",
    "#......\n",
    "#.....#\n",
    ".#...#.\n",
    "..###..\"\"\"]\n",
    "    \n",
    "    target = [\"\"\".#.\n",
    "#.#\n",
    "###\n",
    "#.#\n",
    "#.#\"\"\", \"\"\"##.\n",
    "#.#\n",
    "##.\n",
    "#.#\n",
    "##.\"\"\", \"\"\"###\n",
    "#..\n",
    "#..\n",
    "#..\n",
    "###\"\"\"]\n",
    "    \n",
    "    s = []\n",
    "    t = []\n",
    "    for p, y in zip(pola, target):\n",
    "        s.append(pattern_representation(p)) # pattern representation\n",
    "        t.append(pattern_representation(y)) # pattern representation\n",
    "        \n",
    "    w = initialize_weight(s, t)\n",
    "    \n",
    "    testing = \"\"\"@..#..@\n",
    "...#.@.\n",
    "@.#.#.@\n",
    "..#.#.@\n",
    "@.###.@\n",
    ".#@..#.\n",
    ".#.@.#@\n",
    "#.@@..#\n",
    "#..@.@#\"\"\"\n",
    "    \n",
    "    testing_representation = pattern_representation(testing) # testing representation\n",
    "    \n",
    "    hasil = training_input(testing_representation, w)\n",
    "    \n",
    "    print('testing\\n', testing, sep='')\n",
    "    print('\\n\\noutput\\n', output_representation(hasil), sep='')\n",
    "    \n",
    "pattern_recognition()"
   ]
  },
  {
   "cell_type": "markdown",
   "metadata": {},
   "source": [
    "## Uji Kasus Pattern Recognition\n",
    "\n",
    "Pada uji kasus pattern recognition ini akan dilakukan pelatihan 3 pasangan pola. Input (s) terdiri dari 63 komponen dan output(t) terdiri dari 15 komponen. Pola pelatihan sebagai berikut:\n",
    "\n",
    "    ...#...             #####..             ..###..\n",
    "    ...#...             #....#.             .#...#.\n",
    "    ..#.#..     .#.     #.....#     ##.     #.....#     ###\n",
    "    ..#.#..     #.#     #....#.     #.#     #......     #..\n",
    "    ..###..     ###     ####...     ##.     #......     #..\n",
    "    .#...#.     #.#     #....#.     #.#     #......     #..\n",
    "    .#...#.     #.#     #.....#     ##.     #.....#     ###\n",
    "    #.....#             #....#.             .#...#.\n",
    "    #.....#             #####..             ..###..\n",
    "    \n",
    "dimana \"#\" = 1, \".\" = -1.\n",
    "\n",
    "Akan dibuktikan dengan testing\n",
    "\n",
    "    @..#..@\n",
    "    ...#.@.\n",
    "    @.#.#.@\n",
    "    ..#.#.@\n",
    "    @.###.@\n",
    "    .#@..#.\n",
    "    .#.@.#@\n",
    "    #.@@..#\n",
    "    #..@.@#\n",
    "\n",
    "akan dihasilkan output\n",
    "\n",
    "    .#.\n",
    "    #.#\n",
    "    ###\n",
    "    #.#\n",
    "    #.#\n",
    "\n",
    "Hal ini menunjukkan bahwa walaupun ada beberapa noise, jaringan masih dapat mengenali pola tersebut."
   ]
  }
 ],
 "metadata": {
  "kernelspec": {
   "display_name": "Python 3",
   "language": "python",
   "name": "python3"
  },
  "language_info": {
   "codemirror_mode": {
    "name": "ipython",
    "version": 3
   },
   "file_extension": ".py",
   "mimetype": "text/x-python",
   "name": "python",
   "nbconvert_exporter": "python",
   "pygments_lexer": "ipython3",
   "version": "3.8.5"
  }
 },
 "nbformat": 4,
 "nbformat_minor": 4
}
